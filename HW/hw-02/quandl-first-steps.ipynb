{
 "cells": [
  {
   "cell_type": "markdown",
   "metadata": {},
   "source": [
    "In this exercise, we'll take our first steps in working with economic data on the platform Quandl.\n",
    "\n",
    "** Grading: two points each **\n",
    "\n",
    "\n",
    "### 1. Import the necessary libraries"
   ]
  },
  {
   "cell_type": "code",
   "execution_count": 2,
   "metadata": {},
   "outputs": [],
   "source": [
    "import quandl\n",
    "import pandas as pd\n",
    "from matplotlib import pyplot as plt"
   ]
  },
  {
   "cell_type": "markdown",
   "metadata": {},
   "source": [
    "### 2. Use Quandl to download the data for US Real GDP time series\n",
    "\n",
    "On Quandl, find the data from the Federal Reserve Bank of St Louis (from the project called \"Federal Reserve Economic Data\" or \"FRED\") for Real Gross Domestic Product in the US. Save this data to a Pandas DataFrame and plot it using Pandas' built-in plotting function. Make sure to add a title to the plot to indicate what the plot is showing."
   ]
  },
  {
   "cell_type": "code",
   "execution_count": null,
   "metadata": {},
   "outputs": [],
   "source": []
  },
  {
   "cell_type": "markdown",
   "metadata": {},
   "source": [
    "### 2. Use Quandl to download the data for the US Unemployment rate time series\n",
    "\n",
    "On Quandl, find the data from the FRED for the US Civilian unemployment rate in the US. (Do not adjust for seasonality.) Save this data to a Pandas DataFrame and plot it using Pandas' built-in plotting function. Make sure to add a title to the plot to indicate what the plot is showing."
   ]
  },
  {
   "cell_type": "code",
   "execution_count": null,
   "metadata": {},
   "outputs": [],
   "source": []
  },
  {
   "cell_type": "markdown",
   "metadata": {},
   "source": [
    "### 2. Use Quandl to download the data for the M2 Money Supply time series\n",
    "\n",
    "On Quandl, find the data from the FRED for the M2 money supply in the US. Save this data to a Pandas DataFrame and plot it using Pandas' built-in plotting function. Make sure to add a title to the plot to indicate what the plot is showing."
   ]
  },
  {
   "cell_type": "code",
   "execution_count": null,
   "metadata": {},
   "outputs": [],
   "source": []
  }
 ],
 "metadata": {
  "kernelspec": {
   "display_name": "Python 3",
   "language": "python",
   "name": "python3"
  },
  "language_info": {
   "codemirror_mode": {
    "name": "ipython",
    "version": 3
   },
   "file_extension": ".py",
   "mimetype": "text/x-python",
   "name": "python",
   "nbconvert_exporter": "python",
   "pygments_lexer": "ipython3",
   "version": "3.6.4"
  },
  "varInspector": {
   "cols": {
    "lenName": 16,
    "lenType": 16,
    "lenVar": 40
   },
   "kernels_config": {
    "python": {
     "delete_cmd_postfix": "",
     "delete_cmd_prefix": "del ",
     "library": "var_list.py",
     "varRefreshCmd": "print(var_dic_list())"
    },
    "r": {
     "delete_cmd_postfix": ") ",
     "delete_cmd_prefix": "rm(",
     "library": "var_list.r",
     "varRefreshCmd": "cat(var_dic_list()) "
    }
   },
   "types_to_exclude": [
    "module",
    "function",
    "builtin_function_or_method",
    "instance",
    "_Feature"
   ],
   "window_display": false
  }
 },
 "nbformat": 4,
 "nbformat_minor": 2
}
