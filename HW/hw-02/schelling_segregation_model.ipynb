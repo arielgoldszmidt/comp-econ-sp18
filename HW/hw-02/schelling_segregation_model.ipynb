{
 "cells": [
  {
   "cell_type": "markdown",
   "metadata": {},
   "source": [
    "# Schelling's Segregation Model\n",
    "\n",
    "In this part of the assignment, you will get some practice with Python and learn about a class economic model. The model that we will explore here is based on \"Models of Segregation,\" by Thomas C Schelling, published in the American Economic Review. As described on QuantEcon.org,\n",
    "\n",
    "> In 1969, Thomas C. Schelling developed a simple but striking model of racial segregation [Sch69]. His model studies the dynamics of racially mixed neighborhoods. Like much of Schelling’s work, the model shows how local interactions can lead to surprising aggregate structure. In particular, it shows that relatively mild preference for neighbors of similar race can lead in aggregate to the collapse of mixed neighborhoods, and high levels of segregation.\n",
    "\n",
    "> In recognition of this and other research, Schelling was awarded the 2005 Nobel Prize in Economic Sciences (joint with Robert Aumann).\n",
    "\n",
    "In this assignment, please do the following **(4 points for each part)**: \n",
    "\n",
    " 1. Read and do your best to understand Schelling's segregation model as described in the QuantEcon lecture: https://lectures.quantecon.org/py/schelling.html\n",
    " 2. Simulate Schelling's Segregation Model where the parameters are defined as\n",
    "\n",
    "    ```python\n",
    "    num_of_type_0 = 250\n",
    "    num_of_type_1 = 250\n",
    "    num_neighbors = 10      # Number of agents regarded as neighbors\n",
    "    require_same_type = 5   # Want at least this many neighbors to be same type\n",
    "    ```\n",
    "    You are encouraged to use the code provided on QuantEcon, but you can write your own if you like. Describe what is surprising about the outcome of this simulation.\n",
    "    \n",
    " 3. Simulate Schelling's Segregation Model again, but let `require_same_type = 0`. How long does it take to converge and why?\n",
    " 4. Simulate Schelling's Segregation Model again, but let `require_same_type = 3`. How do the results compare to the case where `require_same_type = 5`?\n",
    " 5. Adjust your code so that there are now 3 types. Let the third type be referred to as type 2. Plot type 2 individual's as purple dots. Let there be 250 of type 2. There should now be 750 total individuals in the simulation. Run the simulation with the parameters\n",
    "    ```python\n",
    "    num_of_type_0 = 250\n",
    "    num_of_type_1 = 250\n",
    "    num_of_type_2 = 250\n",
    "    num_neighbors = 10      # Number of agents regarded as neighbors\n",
    "    require_same_type = 5   # Want at least this many neighbors to be same type\n",
    "    ```\n",
    "  Note that you only need to add several lines of code to the QuantEcon solution to acheive this. \n",
    "  \n",
    " 6. Summarize the key lesson we can learn from this model"
   ]
  },
  {
   "cell_type": "code",
   "execution_count": null,
   "metadata": {},
   "outputs": [],
   "source": []
  }
 ],
 "metadata": {
  "kernelspec": {
   "display_name": "Python 3",
   "language": "python",
   "name": "python3"
  },
  "language_info": {
   "codemirror_mode": {
    "name": "ipython",
    "version": 3
   },
   "file_extension": ".py",
   "mimetype": "text/x-python",
   "name": "python",
   "nbconvert_exporter": "python",
   "pygments_lexer": "ipython3",
   "version": "3.6.4"
  },
  "varInspector": {
   "cols": {
    "lenName": 16,
    "lenType": 16,
    "lenVar": 40
   },
   "kernels_config": {
    "python": {
     "delete_cmd_postfix": "",
     "delete_cmd_prefix": "del ",
     "library": "var_list.py",
     "varRefreshCmd": "print(var_dic_list())"
    },
    "r": {
     "delete_cmd_postfix": ") ",
     "delete_cmd_prefix": "rm(",
     "library": "var_list.r",
     "varRefreshCmd": "cat(var_dic_list()) "
    }
   },
   "types_to_exclude": [
    "module",
    "function",
    "builtin_function_or_method",
    "instance",
    "_Feature"
   ],
   "window_display": false
  }
 },
 "nbformat": 4,
 "nbformat_minor": 2
}
