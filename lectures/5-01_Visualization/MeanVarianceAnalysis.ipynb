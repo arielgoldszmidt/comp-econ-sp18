{
 "cells": [
  {
   "cell_type": "code",
   "execution_count": 1,
   "metadata": {},
   "outputs": [],
   "source": [
    "%matplotlib inline\n",
    "from ipywidgets import interact, interactive, fixed, interact_manual\n",
    "import ipywidgets as widgets\n",
    "import numpy as np\n",
    "from matplotlib import pyplot as plt"
   ]
  },
  {
   "cell_type": "markdown",
   "metadata": {},
   "source": [
    "# Mean-Variance Mathematics\n",
    "First, let's make sure we can create the plots that we want."
   ]
  },
  {
   "cell_type": "code",
   "execution_count": 2,
   "metadata": {},
   "outputs": [],
   "source": [
    "def plot_portfolio(alpha=.5, R0=4.0, R1=8.0, sd0=5.0, sd1=10.0, corr=0.0):\n",
    "    \n",
    "    #calculate portfolio properties\n",
    "    expected_return = lambda a: a * R1 + (1-a) * R0\n",
    "    add_sd = lambda a: np.sqrt((1-a)**2 * sd0**2 + a**2 * sd1**2 \n",
    "                            + 2*a*(1-a)*corr*sd0 * sd1)\n",
    "    \n",
    "    #calculate frontier\n",
    "    alpha_range = np.linspace(-2.0, 2.0, 100)\n",
    "    y = expected_return(alpha_range)\n",
    "    x = add_sd(alpha_range)\n",
    "    \n",
    "    #Plot frontier and points\n",
    "    fig, ax = plt.subplots()\n",
    "    ax.plot(x, y)\n",
    "    ax.plot([sd0, sd1], [R0, R1], 'o')\n",
    "    ax.axis([0, 15, -2, 10])\n",
    "    ax.plot([add_sd(alpha)], [expected_return(alpha)], 'o')\n",
    "    plt.xlabel('standard deviation')\n",
    "    plt.ylabel('expected return')\n",
    "    "
   ]
  },
  {
   "cell_type": "code",
   "execution_count": 3,
   "metadata": {},
   "outputs": [
    {
     "data": {
      "application/vnd.jupyter.widget-view+json": {
       "model_id": "fe03ee5089f84c4bb9f477e6d00e3b73",
       "version_major": 2,
       "version_minor": 0
      },
      "text/plain": [
       "interactive(children=(FloatSlider(value=0.5, description='alpha', max=2.0, min=-1.0, step=0.001), FloatSlider(…"
      ]
     },
     "metadata": {},
     "output_type": "display_data"
    },
    {
     "data": {
      "text/plain": [
       "<function __main__.plot_portfolio(alpha=0.5, R0=4.0, R1=8.0, sd0=5.0, sd1=10.0, corr=0.0)>"
      ]
     },
     "execution_count": 3,
     "metadata": {},
     "output_type": "execute_result"
    }
   ],
   "source": [
    "interact(plot_portfolio, alpha=(-1.0, 2.0, .001), corr=(-1.0, 1.0, .01))"
   ]
  },
  {
   "cell_type": "code",
   "execution_count": null,
   "metadata": {},
   "outputs": [],
   "source": []
  }
 ],
 "metadata": {
  "kernelspec": {
   "display_name": "Python 3",
   "language": "python",
   "name": "python3"
  },
  "language_info": {
   "codemirror_mode": {
    "name": "ipython",
    "version": 3
   },
   "file_extension": ".py",
   "mimetype": "text/x-python",
   "name": "python",
   "nbconvert_exporter": "python",
   "pygments_lexer": "ipython3",
   "version": "3.6.5"
  },
  "varInspector": {
   "cols": {
    "lenName": 16,
    "lenType": 16,
    "lenVar": 40
   },
   "kernels_config": {
    "python": {
     "delete_cmd_postfix": "",
     "delete_cmd_prefix": "del ",
     "library": "var_list.py",
     "varRefreshCmd": "print(var_dic_list())"
    },
    "r": {
     "delete_cmd_postfix": ") ",
     "delete_cmd_prefix": "rm(",
     "library": "var_list.r",
     "varRefreshCmd": "cat(var_dic_list()) "
    }
   },
   "types_to_exclude": [
    "module",
    "function",
    "builtin_function_or_method",
    "instance",
    "_Feature"
   ],
   "window_display": false
  },
  "widgets": {
   "application/vnd.jupyter.widget-state+json": {
    "state": {
     "027d4f8618db4f0a931816a66a10cee1": {
      "model_module": "@jupyter-widgets/base",
      "model_module_version": "1.0.0",
      "model_name": "LayoutModel",
      "state": {}
     },
     "089a5fc58c9743f2b52d507d97dbca13": {
      "model_module": "@jupyter-widgets/output",
      "model_module_version": "1.0.0",
      "model_name": "OutputModel",
      "state": {
       "layout": "IPY_MODEL_b932aba564d64d07b19ff1d376529682",
       "outputs": [
        {
         "data": {
          "image/png": "iVBORw0KGgoAAAANSUhEUgAAAYQAAAEKCAYAAAASByJ7AAAABHNCSVQICAgIfAhkiAAAAAlwSFlzAAALEgAACxIB0t1+/AAAADl0RVh0U29mdHdhcmUAbWF0cGxvdGxpYiB2ZXJzaW9uIDIuMS4wLCBodHRwOi8vbWF0cGxvdGxpYi5vcmcvpW3flQAAIABJREFUeJzt3Xd4lfX9xvH3JwlhhA1hhj1FhkhUREQU96wKVarWtlSqdeDo0PZX29rWasUKblGps6hVq+IAmaIMkSFL9g4zIIQwsj+/P87BRgzkCDl5zknu13XlyjnPeTjPTSC586zv19wdERGRhKADiIhIbFAhiIgIoEIQEZEwFYKIiAAqBBERCVMhiIgIUA6FYGajzWy7mS0utqy+mU0ws5Xhz/WinUNERI6sPPYQXgDOP2TZ3cAkd+8ATAo/FxGRAFl53JhmZq2B9929a/j5cqC/u28xs6bAVHfvFPUgIiJyWEkBbbexu28BCJdCo8OtaGZDgaEAKSkpvTp37lxOEUVEvu1AfiHb9+SwJ6eAxASjUa2qNEipilnQyY5s7ty5O9w9tbT1giqEiLn7KGAUQHp6us+ZMyfgRCJS2azans0jE1bywaItNK2WxJ/OaMf1fVpTs2rM/wgFwMzWR7JeUH+bbWbWtNgho+0B5RAROaz1O/cxcuJK3vlyE9WrJHLbWe0Zcnpb6lSvEnS0qAiqEN4DrgceCH9+N6AcIiLfsXn3AR6bvIr/zNlIUqJxw+lt+cUZ7aifkhx0tKiKeiGY2RigP9DQzDKAPxIqgjfMbAiwARgU7RwiIqXJzM7lyamreHXWBhznmlNacvOZ7WlUu1rQ0cpF1AvB3Qcf5qUB0d62iEgkdu/P4+lP1vDijHXkFRYx8MQ0bh3QnrR6NYKOVq7i44yIiEgUZOfkM/qzdTz36Rr25hVwaY9m3H52R9o0TAk6WiBUCCJS6RzIK+TlWet4aupqdu3P57zjG3PnOZ3o1KRW0NECpUIQkUojr6CI177YwOOTV7E9O5d+HVP51bkd6Z5WN+hoMUGFICIVXkFhEW/P38TIiSvZtPsAJ7euz+M/OpGT29QPOlpMUSGISIVVVOR8sGgLj0xcwZrMfXRPq8P9V3SjX4eGWKzfXhwAFYKIVDjuzuRl2xn+8QqWbtlDx8Y1efraXpx3fGMVwRGoEESkQpmxegfDxy9n3obdtGpQgxFXncAlPZqRmKAiKI0KQUQqhC837mb4+OV8tmoHTWpX4/7LuzEoPY0qiZoHLFIqBBGJa8u3ZvPwx8v5+Ktt1E9J5v8uOo5re7eiWpXEoKPFHRWCiMSl9Tv3MSI88FzN5CTuPKcjP+vbJm5GII1F+sqJSFzZmpXDY5NX8voXoYHnhvZry4392lGvgg88Vx5UCCISF3bty+OpT1bz4ox1FBY5g09uya1nVZ6B58qDCkFEYtre3AJGf7aWZ6eFxhu6vGdzbh/QkZYNKtfAc+VBhSAiMSknv5BXP9/Ak1NWsXNfHucd35i7zu1Ex8aVe7yhaFIhiEhMKSgs4u15mxgxcQWbs3I4rX0Dfn1eZ05oofGGok2FICIxwd35aPFWhn+8nDWZ++jRoi4PDerBae0bBh2t0lAhiEig3J1PV+7gofHLWbQpiw6NNMxEUFQIIhKY+Rt28Y9xy5m5ZifN61Zn+KAeXN6zuYaZCIgKQUTK3cpt2Qz/eDnjl2yjQUoyf7qkC4NPaUnVJN1dHCQVgoiUm027D/DIhBW8PS+DFN1dHHP0ryAiUbdzby5PTl3NyzPXg8GQvm24qX976uvu4piiQhCRqNmbW8Dzn67l2U/XsD+vgEG9WjDs7A40q1s96GhSAhWCiJS53IJCxny+gccmh24qu6BrE+46tyPtG+mmslimQhCRMlNU5Ly7YBMPf7yCjF0HOLVtA357gW4qixcqBBE5Zu7OlOXb+ce45Szbms3xzWpz/+XdOF1zF8cVFYKIHJN5G3bxwEfLmL32a1o1qMGjg3tycbemJOhegrijQhCRo7Jq+14eGr+M8Uu20bBmMvdddjxXn9SS5CRNWRmvAi0EM7sD+DngwCLgp+6eE2QmETmyrVk5jJy0gte/2Ej1KonceU5HhvRtQ4ruJYh7gf0Lmllz4Dagi7sfMLM3gKuBF4LKJCKHWPgGTLoPsjIoqt2cD1Jv4NcrOlFY5FzfpzW3nNmeBjWrBp1SykjQlZ4EVDezfKAGsDngPCJy0MI3YOxtkH8AgIQ9GQzI+hu/S/s1Zw66hRb1NUFNRRPYwT533wQMBzYAW4Asd/84qDwi8m0+6b5vyuCgGpbHj/e/pDKooAIrBDOrB1wGtAGaASlmdm0J6w01szlmNiczM7O8Y4pUOu7OJysy8ayMklc43HKJe0FeDnA2sNbdM909H3gb6HPoSu4+yt3T3T09NTW13EOKVCaLN2Vx7fOfc/3o2Wy3w0xMUyetfENJuQnyHMIGoLeZ1QAOAAOAOQHmEam0Nn69n+EfL+fdLzdTr0YV7r24Cw1q/hU+uP3bh42qVIcB9wYXVKIqsEJw98/N7E1gHlAAzAdGBZVHpDLavT+Pxyev4qWZ6zGDX/Zvx43921G7WhWgDSQkfHOVEXXSQmXQ/YdBx5YoMXcPOkPE0tPTfc4c7USIHKuc/EJemrmOxyevIju3gEG90rjjnI40raNRSCsiM5vr7umlrRf0ZaciUo4ODj43fPwKNu0+QP9Oqdx9QWc6N6kddDSJASoEkUpixqod3P/RUhZv2kPX5rX5x8DunNb+MCeOpVJSIYhUcCu2ZfP3D5cyZXkmzetWZ8RVJ3Bpj2YafE6+Q4UgUkFt35PDIxNDYw6lVE3ings6c32f1lSroonspWQqBJEKZn9eAc9OW8sz01aTX1jE9X1ac9tZHain+YulFCoEkQqisMh5a24Gwz9ezvbsXC7s1oTfnNeZ1g1Tgo4mcUKFIFIBfLoyk799sJRlW7Pp2bIuT117Ir1a1Q86lsQZFYJIHFu5LZv7wyeMW9SvzuM/6slF3Zpq2ko5KioEkTi0Y28uIyauYMzsjdRITuR3F4ZOGFdN0gljOXoqBJE4kpNfyAsz1vHE5FXszy/k2lNaMuzsjtTXCWMpAyoEkTjg7ny4aCsPjFvKxq8PcFbnRvzuwuNo36hm0NGkAlEhiMS4hRm7+cv7X/HFul10blKLl4eczOkdNBS8lD0VgkiM2pqVwz/GL+PteZtoWDOZ+y/vxlUntSBRdxhLlKgQRGJMTn4ho6at4ampqykscm48ox03n9mOWtWqBB1NKjgVgkiMcHfGLtzCAx8uZXNWDhd0bcI9FxxHywaav1jKhwpBJAYsysjiT2OXMHf9Lro0rc0/rzqB3m0bBB1LKhkVgkiAtmfnMHz8cv4zN4MGKck8eGU3BvbSeQIJhgpBJAB5BUW8MGMtj05aRW5BITec3pZbz2qv8wQSKBWCSDmbvGwbf3l/KWt37GNA50b8/qLjaJuq+wkkeCoEkXKyJnMvf3n/K6Ysz6Rtagov/PQk+ndqFHQskW+oEESibG9uAY9NXsnoz9ZSNSmR/7voOH58amuSkxKCjibyLSoEkShxd979cjP3f7iU7dm5DOqVxq/P70SjWtWCjiZSIhWCSBQs2ZzFn95bwhfrdtEjrQ7PXNeLni3rBR1L5IhUCCJlKGt/Pg9PWM4rs9ZTt0boMtJBvVpoQnuJCyoEkTJQVOS8OS+DBz5axu79eVzXuxV3ntOJOjV0GanEDxWCyDFasjmLP7yzmHkbdtOrVT3uu+xkjm9WJ+hYIt+bCkHkKGUdyOeRCSt4aeY66tVI5qGB3bnyxDQdHpK4pUIQ+Z4OXj301w+W8vW+XK7t3Yq7dHhIKoBAC8HM6gLPAV0BB37m7jODzCRyqA/WfMDIeSPZum8rDas1purei1i6sgM90urwr5+cRLc0HR6SiqHUQjCzqsCVQOvi67v7fWWw/ZHAOHcfaGbJgMb5lZjywZoP+NOMP5FTmANAZs5WSHiJwWfexl/PuVCD0EmFEsmtku8ClwEFwL5iH8fEzGoD/YDnAdw9z913H+v7ipSlkfNGflMG30jIZ272v1UGUuFEcsgozd3Pj8K22wKZwL/MrAcwFxjm7t8qGzMbCgwFaNmyZRRiiJQsMzuXLfu2lPja1n1byzmNSPRFsocww8y6RWHbScCJwFPu3pPQXsfdh67k7qPcPd3d01NTNbG4RF9RkTNm9gYGPDwVz69b4jpNUpqUcyqR6IukEPoCc81suZktNLNFZrawDLadAWS4++fh528SKgiRwKzavperR83inrcX0aVZbe5Mv51qid8ee6haYjWGnTgsoIQi0RPJIaMLorFhd99qZhvNrJO7LwcGAF9FY1sipckrKOKpqat5Ysoqqicn8o+B3RnUKw0zo3Htat9cZdQkpQnDThzGRW0vCjqySJkzdz/8i2YJwEJ37xqVjZudQOiy02RgDfBTd991uPXT09N9zpw50Ygildjc9bu45+2FrNi2l0t6NOPei7uQWqtq0LFEyoyZzXX39NLWO+IegrsXmdkCM2vp7hvKLt437/8lUGpIkWjYn1fAQ+OX88KMdTStXY3RP0nnrM6Ng44lEphIDhk1BZaY2WyKXW7q7pdGLZVIlE1ftYO7317Ixq8PcF3vVvz2gs7UrKob96Vyi+Q74M9RTyFSTvbk5PP3D5cyZvZGWjeowetDe3NK2wZBxxKJCaUWgrt/Uh5BRKJt2opMfvvWQrbtyeEX/dpyxzkdqVYlMehYIjEjkqErsgmNMwShk79VgH3uXjuawUTKSnZOPveH9wrapabw1k19NHuZSAki2UOoVfy5mf0AODlqiUTK0IxVO/j1mwvZnHVAewUipfjeZ9Hc/R0z+84dxSKxJCe/kAfHLeNf09fRtmEKb954Kr1a1Q86lkhMi+SQ0RXFniYQukz08DcviARsYcZu7nj9S1Zn7uMnfVrz2/M7Uz1ZewUipYlkD+GSYo8LgHWERj8ViSkFhUU8OXU1j05aScOaVXl5yMmc3kHjX4lEKpJCeM7dpxdfYGanAdujE0nk+9v49X7ueP1L5qzfxaU9mvGXy7pqBjOR7ymSQniM7w46V9IykUC8++Um/u+/iwEYcdUJ/KBn84ATicSnwxaCmZ0K9AFSzezOYi/VBnRAVgK3N7eAP7yzmP/O30SvVvUYcdUJtKivSfdEjtaR9hCSgZrhdYpferoHGBjNUCKlWbwpi1vHzGf9zn3cfnYHbjmzPUmJkYzmLiKHc9hCCN+h/ImZveDu680s5dDZzETKm7vz0sz1/O2DpdRPSWbMDRp6QqSsRHIOoZmZfURob6FleLrLX7j7L6MbTeTb9uTk85v/LGTckq2c1bkRwwf1oH5KctCxRCqMSAphBHAe8B6Auy8ws35RTSVyiKVb9nDTK3PZuOsAv7uwMz/v25YETXIvUqYiulPZ3TeafeubrzA6cUS+6+15Gfzuv4uoXa0Krw3tzUmtdcexSDREUggbzawP4GaWDNwGLI1uLBHILyzivrFf8fKs9fRuW59HB/ekUa1qpf9BETkqkRTCjcBIoDmQAXwM3BzNUCI79+Zy06vzmL32a4b2a8tvzuukq4hEouyIhWBmicB17n5NOeURYcnmLIa+NJcde3MZefUJXHaCbjQTKQ9H/JXL3QvRuEVSjsYt3sKVT82gyJ03b+yjMhApR5EcMppuZo8Dr/PtOZXnRS2VVDruznOfruX+j5bSI60uz/44ndRaVYOOJVKpRFIIfcKf7yu2zIGzyj6OVEYFhUX88b0lvPr5Bi7q1pSHf9hDk9iIBCCSGdPOLI8gUjkdyCvkl6/OZcryTG7q345fn9tJ9xeIBOR7z5gmUlZ2789jyItzmL9hF3+7vCvXnNIq6EgilZoKQQKxNSuH60fPZu2OfTzxoxO5oFvToCOJVHoqBCl3Gbv2M/jZWXy9N48XfnoSfdo3DDqSiHDk+RCuONxrAO7+dtnHkYpu49f7uXrULLJz8vn3Db3p0aJu0JFEJOxIewgH51JuROhKo8nh52cCU4EyKYTwzW9zgE3ufnFZvKfEmIVvwKT78KwMqtCQ0xnMNT//Fd3S6gSdTESKOdJ8CD8FMLP3gS7uviX8vCnwRBlmGEZobKTaZfieEisWvgFjb4P8AxjQhEzuT3qWhK+7QdoPg04nIsVEMjhM64NlELYN6FgWGzezNOAi4LmyeD+JQZPug/wD31qUUHAgtFxEYkokJ5Wnmtl4YAyhG9KuBqaU0fZHAL/h21N0fouZDQWGArRs2bKMNivlxbMyKPGugqyM8o4iIqUodQ/B3W8BngZ6ACcAo9z91mPdsJldDGx397mlbH+Uu6e7e3pqauqxblbKUWGRszPxMP9mddLKN4yIlCrSy07nAdnuPtHMaphZLXfPPsZtnwZcamYXAtWA2mb2irtfe4zvKzHiH+OWseXAQP5ZbTRJRTn/e6FKdRhwb3DBRKREpe4hmNkNwJvAM+FFzYF3jnXD7n6Pu6e5e2tCh6Emqwwqjv/M2cgz09ZQ95RrSPrBY1CnBWChz5c8Ct11Qlkk1kSyh3AzcDLwOYC7rzSzRlFNJXFtyeYsfv/OYk5r34A/XNwFEruqAETiQCSFkOvueQfnVDazJEInl8uMu08ldG+DxLn9eQXcOmY+datX4dGre1JFs5yJxI1Ivls/MbPfAdXN7BzgP8DY6MaSePXHd5ewdsc+Rlx9Ag1qaj4DkXgSSSHcDWQCi4BfAB+6+++jmkri0qSl2/jP3Axu7t+ePu00PpFIvInkkNGt7j4SePbgAjMbFl4mAsC+3ALufXcJHRvX5LYBHYKOIyJHIZI9hOtLWPaTMs4hcW7ExBVs2n2A+y/vRnKSzhuIxKMjjXY6GPgR0MbM3iv2Ui1gZ7SDSfxYv3Mf/5q+jqtPakF66/pBxxGRo3SkQ0YzgC1AQ+DhYsuzgYXRDCXxZeSklSQmGHeeUyZDXIlIQI402ul6YL2ZXQNsdvccADOrDqQB68olocS0Vdv38s78TQzp24ZGtasFHUdEjkEkB3vfAIqKPS8kdOmpCKOnr6VKYgI3ntEu6CgicowiKYQkd887+CT8ODl6kSRe7Mst4N35m7i4ezPdcyBSAURSCJlmdunBJ2Z2GbAjepEkXoxdsJl9eYX86BQNSy5SEURyH8KNwKtm9gShISsygB9HNZXEhQ8WbaFtwxRObKl5kUUqglILwd1XA73NrCZgZTDstVQAB/IK+Xzt11zXuxUHx7kSkfgWyfDXjc3seeA/7p5tZl3MbEg5ZJMY9vnaneQVFNGvoyYtEqkoIjmH8AIwHmgWfr4CuD1agSQ+LNiYhRmc1Lpe0FFEpIxEUggN3f2bS0/dvYDQpadSia3O3EvzutWpkRzppHsiEusiKYR9ZtaA8BwIZtYbyIpqKol5qzP30i61ZtAxRKQMRfLr3Z3Ae0A7M5sOpAIDo5pKYt6Ovbl0bVYn6BgiUoYiucponpmdAXQCDFju7vlRTyYxLbegiGpVNKqpSEVSaiGYWTXgl0BfQoeNPjWzpw+ObSSVU25+kYa5FqlgIjlk9BKhEU4fCz8fDLwMDIpWKIl9VaskkJNfVPqKIhI3IimETu7eo9jzKWa2IFqBJD6k1qxKZnZu0DFEpAxFss8/P3xlEQBmdgowPXqRJB6k1qrK9mwdNRSpSCIphFOAGWa2zszWATOBM8xskZlpopxKqm1qCiu27aWwyIOOIiJlJJJDRudHPYXEnZ4t6vHKrA2sztxLx8a1go4jImUgkj2EDu6+vvgH0L/YY6mEeoZHOJ27flfASUSkrERSCPea2VNmlhIe6G4scEm0g0lsa9MwheZ1qzN+ydago4hIGYmkEM4AVgNfAp8B/3Z33alcyZkZF3dvymcrd7BrX17pf0BEYl4khVCP0Inl1UAu0MrKYAB8M2thZlPMbKmZLTGzYcf6nlK+LunRjIIi54NFW4KOIiJlIJJCmAV85O7nAycRGga7LC47LQDucvfjgN7AzWbWpQzeV8rJ8c1q07V5bUZPX0uRrjYSiXuRFMLZ7j4awN0PuPttwN3HumF33+Lu88KPs4GlQPNjfV8pP2bGDae3ZU3mPiYu3RZ0HBE5RpEUwkYzu9bM7gUws5ZAmd6RZGatgZ7A5yW8NtTM5pjZnMzMzLLcrJSBi7o1pXnd6jwxZZX2EkTiXCSF8CRwKqExjCA0rtETZRUgPFfzW8Dt7r7n0NfdfZS7p7t7emqqpmuMNUmJCdx+dgcWZGQxduHmoOOIyDGI6E5ld7+Z8F6Bu+8Cksti42ZWhVAZvOrub5fFe0r5u/LENLo1r8MDHy1jf15B0HFE5ChFUgj5ZpbI/2ZMSyU8neaxCF+p9Dyw1N3/eazvJ8FJSDDuvaQLW7JyeHTSqqDjiMhRiqQQHgX+CzQys78Ruhfh/jLY9mnAdcBZZvZl+OPCMnhfCcBJretzVXoLRk1brbuXReKUuZd+ItDMOgMDCM2YNsndl0Y7WEnS09N9zpw5QWxaIpCdk8/5Iz4lOSmBD287nerJiUFHEhHAzOa6e3pp60U05ZW7L3P3J9z98aDKQGJfrWpVeGhgd9bu2Mef3lsSdBwR+Z40B6KUqT7tG3LLme15fc5GXpu9Ieg4IvI9qBCkzN1xTkdO79CQe99bwsKM3UHHEZEIqRCkzCUmGCOv7klqzaoMfWkuW7IOBB1JRCKgQpCoqJ+SzPM/SWdfbgE/Gf0Fe3Lyg44kIqVQIUjUdG5Sm6ev68XqzL3c+PJc8gqO+fYVEYkiFYJE1WntG/Lgld2ZsXont42ZT0GhSkEkVqkQJOqu7JXGvRd3YdySrdz5xgIKNQieSExKCjqAVA4/69uG3IIiHhy3jKpJCTx4ZXcSEo55niURKUMqBCk3N/VvR25BISMmrqSgyHloYHeSErWTKhIrVAhSrm4/uyNVEhN4aPxy9ucV8OjgnlRN0hAXIrFAv55Jubv5zPb88ZIujF+yjRtemqshs0VihApBAvHT09rw4JXd+GxlJoOf/Zyde3ODjiRS6akQJDBXndSSp6/txbIte7jyqRms37kv6EgilZoKQQJ17vFN+PcNvck6kM8VT85g/gbNpSASFBWCBK5Xq3q8dVMfalRN5OpRs3hvgeZmFgmCCkFiQtvUmrx7c196pNXltjHz+efHyynSDWwi5UqFIDGjfkoyr/z8FAb1SuPRyau4Zcw89uXqCiSR8qJCkJiSnJTAPwZ25/cXHse4xVu54skZrNuhk80i5UGFIDHHzLihX1te/NnJbMvO4ZLHP2Pysm1BxxKp8FQIErNO75DK2Fv60rJ+DYa8OIdHJqzQwHgiUaRCkJjWon4N3rqpD5f3bM7ISSu5fvRsMrN1E5tINKgQJOZVq5LIw4N68OCV3fhi3ddc9OinzFqzM+hYIhWOCkHigplx1Ukteefm00ipmsSPnp3FY5NW6hCSSBlSIUhcOa5pbcbe2peLuzfj4QkruOa5WWzNygk6lkiFoEKQuFOzahIjrz6BhwZ2Z8HGLM4fOY0JX+kqJJFjpUKQuGRmDEpvwfu39aVZnerc8NIc/vDOYg7kFQYdTSRuBVoIZna+mS03s1VmdneQWSQ+tUutyX9v7sOQvm14edZ6Ln7sUxZvygo6lkhcCqwQzCwReAK4AOgCDDazLkHlkfhVNSmRP1zchVeGnMK+3EJ+8MR0npiySiecRb6nIPcQTgZWufsad88DXgMuCzCPxLm+HRoy7vbTOa9rEx4av5yrnpmpYS9EvocgC6E5sLHY84zwMpGjVrdGMo8P7skjV/Vg+bZsLhj5KS/NXKeRU0UiEGQhWAnLvvNda2ZDzWyOmc3JzMwsh1gS78yMy3um8fEd/TipTX3ufXcJPx49m027DwQdTSSmBVkIGUCLYs/TgO/MjOLuo9w93d3TU1NTyy2cxL+mdarz4k9P4v7LuzFvwy7Of2Qar83egLv2FkRKEmQhfAF0MLM2ZpYMXA28F2AeqYDMjB+d0pJxw/pxfPPa3P32In48ejYZu/YHHU0k5gRWCO5eANwCjAeWAm+4+5Kg8kjF1rJBDf7989785Qddmbd+F+c9Mo1XZq3XuQWRYiyedp/T09N9zpw5QceQOLfx6/3c8/YiPlu1g95t6/PAFd1p3TAl6FgiUWNmc909vbT1dKeyVDot6tfg5SEn88AV3ViyeQ/njZjG05+spqCwKOhoIoFSIUilZGZcfXJLJt55Bmd0TOWBj5bxgyen6y5nqdRUCFKpNa5djWeu68WT15zI1qxcLntiOn//cKnGRJJKSYUglZ6ZcWG3pky8sx8DT0zjmWlrOHfEJ3yyQve9SOWiQhAJq1sjmQcHdue1ob2pkpjA9aNnM+y1+ezYqyk7pXJQIYgconfbBnw07HSGDejAh4u2MODhTxgze4MuUZUKT4UgUoKqSYnccU5HPhp2Op2b1OKetxcx6JmZLNu6J+hoIlGjQhA5gvaNavHa0N4MH9SDtTv2cdGjn/H3D5eyP68g6GgiZU6FIFIKM2NgrzQm3XkGg3qFTjqf/fAnjFu8ReMiSYWiQhCJUL2UZB64sjtv3XQqtatX4cZX5vHTF75g/U7NuSAVgwpB5Hvq1ao+79/alz9c3IUv1n7NOY9MY8TEFeTk694FiW8qBJGjkJSYwJC+bZh0V3/O7dKYERNXcu4j05i0dFvQ0USOmgpB5Bg0qVONx390Iq/+/BSqJBpDXpzDkBe+YMNODa8t8UeFIFIGTmvfkI+G9eOeCzozc81Ozn7kE/45QYeRJL6oEETKSHJSAr84ox2T7+rPecc34dFJKxmgq5EkjqgQRMpYkzrVeGxwT8bc0Jta1ZK48ZV5XPf8bFZtzw46msgRqRBEouTUdg14/9a+/OmSLizM2M35Iz7lr+9/xZ6c/KCjiZRIhSASRUmJCfzktDZM+VV/BqWn8fz0tZw1fCqvf6GxkST2qBBEykGDmlX5+xXdee/mvrRqkMJv31rEZU9MZ+76r4OOJvINFYJIOeqWVoc3bzyVkVefQGZ2Llc+NZNhr81nS9aBoKOJqBBEypuZcdkJzZl01xnccmZ7Plq8lbOGf8LIiSs1U5sESoUgEpCUqkn86rxOTLqDLMTvAAAJiUlEQVTzDM7snMojE1dw9j8/YeyCzbpMVQKhQhAJWIv6NXjyml68NrQ3tatX4dYx8/nhMzNZmLE76GhSyagQRGJE77ahy1T/fkU31mTu49LHp3PXGwvYticn6GhSSagQRGJIYoIx+OSWTPl1f35xRlvGLthM/4em8ugknV+Q6FMhiMSg2tWqcM8FxzHhzn6c0TGVf05YwYCHp/LO/E26f0GiRoUgEsNaNUjh6etC5xfqpSRz++tfcvlTM5izTvcvSNlTIYjEgd5tGzD2lr4MH9SDrVkHGPj0TG7+9zw2fq1htqXsBFIIZvaQmS0zs4Vm9l8zqxtEDpF4kpAQmtt5yq/6M2xAByYt3caAhz/h7x8uJeuAxkeSYxfUHsIEoKu7dwdWAPcElEMk7tRITuKOczoy9VdnckmPZoz6dA39H5rCizPWkV9YFHQ8iWOBFIK7f+zuBeGns4C0IHKIxLMmdarx8A97MPaWvnRuUps/vreE80ZMY8JX23RjmxwVC/o/jpmNBV5391cO8/pQYGj4aVdgcXllKyMNgR1Bh/ge4i0vKHN5iLe8EH+Zo5m3lbunlrZS1ArBzCYCTUp46ffu/m54nd8D6cAVHkEQM5vj7ullmzS64i1zvOUFZS4P8ZYX4i9zLORNitYbu/vZR3rdzK4HLgYGRFIGIiISXVErhCMxs/OB3wJnuLuumxMRiQFBXWX0OFALmGBmX5rZ0xH+uVFRzBQt8ZY53vKCMpeHeMsL8Zc58LyBn1QWEZHYoDuVRUQEUCGIiEhYXBSCmZ1vZsvNbJWZ3R10ntKYWQszm2JmS81siZkNCzpTpMws0czmm9n7QWcpjZnVNbM3w8OgLDWzU4POVBozuyP8f2KxmY0xs2pBZzqUmY02s+1mtrjYsvpmNsHMVoY/1wsy46EOkzlmh8gpKW+x135lZm5mDcs7V8wXgpklAk8AFwBdgMFm1iXYVKUqAO5y9+OA3sDNcZD5oGHA0qBDRGgkMM7dOwM9iPHcZtYcuA1Id/euQCJwdbCpSvQCcP4hy+4GJrl7B2BS+HkseYHvZo7lIXJe4Lt5MbMWwDnAhvIOBHFQCMDJwCp3X+PuecBrwGUBZzoid9/i7vPCj7MJ/aBqHmyq0plZGnAR8FzQWUpjZrWBfsDzAO6e5+7xMOdkElDdzJKAGsDmgPN8h7tPAw4dX/sy4MXw4xeBH5RrqFKUlDmWh8g5zNcY4BHgN0AgV/vEQyE0BzYWe55BHPxwPcjMWgM9gc+DTRKREYT+M8bDCGltgUzgX+FDXM+ZWUrQoY7E3TcBwwn99rcFyHL3j4NNFbHG7r4FQr/wAI0CzvN9/Qz4KOgQR2JmlwKb3H1BUBnioRCshGVxca2smdUE3gJud/c9Qec5EjO7GNju7nODzhKhJOBE4Cl37wnsI/YOY3xL+Lj7ZUAboBmQYmbXBpuq4gsPkVMAvBp0lsMxsxrA74F7g8wRD4WQAbQo9jyNGNzNPpSZVSFUBq+6+9tB54nAacClZraO0GG5s8ysxAEHY0QGkOHuB/e83iRUELHsbGCtu2e6ez7wNtAn4EyR2mZmTQHCn7cHnCcixYbIuSbGh8hpR+gXhQXh78E0YJ6ZlTQeXNTEQyF8AXQwszZmlkzoJNx7AWc6IjMzQse2l7r7P4POEwl3v8fd09y9NaGv8WR3j9nfXt19K7DRzDqFFw0AvgowUiQ2AL3NrEb4/8gAYvxEeDHvAdeHH18PvBtglogUGyLn0lgfIsfdF7l7I3dvHf4ezABODP8/LzcxXwjhk0K3AOMJffO84e5Lgk1VqtOA6wj9lv1l+OPCoENVQLcCr5rZQuAE4P6A8xxReG/mTWAesIjQ91/gwxUcyszGADOBTmaWYWZDgAeAc8xsJaGrYB4IMuOhDpP5aIfIibrD5A2chq4QEREgDvYQRESkfKgQREQEUCGIiEiYCkFERAAVgoiIhKkQJOaZ2e3hOznL6v3WHctIkmbWP5LRYM1sqpkd1aTpZvZhaaNzmtnvDnk+42i2JXKQCkHiwe2EBoILRHjE3XLl7hdGMFjftwrB3ePlrmeJUSoEiRlmlmJmH5jZgvB8AVeZ2W2Exv2ZYmZTwus9ZWZzwvMK/LnYn19nZn82s3lmtsjMOoeXNzCzj8OD4D1DsfGxzOwdM5sbfq+hxZbvNbP7zOxz4FQLzcmxzMw+A644TP7qZvZaePz914HqxV4718xmhrP9x8xqmtkFZvZGsXX6m9nYYn+XhofLaGYPEBo19Usze/Vg5vBns9BcAIvDX4erir3/VPvfHBKvhu+YFglxd33oIyY+gCuBZ4s9rxP+vA5oWGx5/fDnRGAq0L3YereGH/8SeC78+FHg3vDjiwgNjtjwkPeqDiwGGoSfO/DD8ONqhEbc7UCoTN4A3i8h/53A6PDj7oQGVEsHGgLTgJTwa78lNIhZEqHhLA4ufwq49tC/8xEy7j1k+3uLfR0nhL8+jcPbaAr0B7IIjZOTQOhO2b5B/7vrI3Y+tIcgsWQRcLaZPWhmp7t71mHW+6GZzQPmA8cTmjjpoIMDCc4FWocf9wNeAXD3D4Bdxda/zcwWEBovvwWhH/oAhYQGJwToTGhQupXu7gffqwTFt7MQWBhe3juccbqZfUloLKBWHhqWZRxwiYXmR7iIkscIOlzGw+kLjHH3QnffBnwCnBR+bba7Z7h7EfAl//saiZAUdACRg9x9hZn1Ai4E/m5mH7v7fcXXMbM2wK+Ak9x9l5m9QOg3+INyw58L+fb/7++M0WJm/QmNQHqqu+83s6nF3ivH3QuP9OcP99coYZkBE9x9cAmvvQ7cTGiylC88NKFSpBkP50iHgXKLPT70aySVnPYQJGaYWTNgv7u/QmgimYPDWWcTGqQMoDahuQ+yzKwxoalVSzMNuCa8jQuAg/MB1wF2hX/Qdib0m3xJlgFtzKxd+HlJP9gP3U5XQoeNIPSb/Wlm1j78Wg0z6xh+bWr473kDoXI41JEy5ltomPWSclxlofmxUwntucw+TGaRb6gQJJZ0A2aHD6v8HvhrePko4CMzm+Kh2aTmA0uA0cD0CN73z0C/8GGmc/nffLXjgKTwaKl/IfSD+zvcPQcYCnwQPqm8/jDbeQqoGX6/3xD+IezumcBPgDHh12YROgxFeC/kfULFVtKlrEfKOApYePCkcjH/JXS4agEwGfiNl/MwyhKfNNqpiIgA2kMQEZEwFYKIiAAqBBERCVMhiIgIoEIQEZEwFYKIiAAqBBERCft/6ig5BPqUHoMAAAAASUVORK5CYII=\n",
          "text/plain": "<matplotlib.figure.Figure at 0x1315c372320>"
         },
         "metadata": {},
         "output_type": "display_data"
        }
       ]
      }
     },
     "17c86189f65245b4a8457411bee1fdb1": {
      "model_module": "@jupyter-widgets/controls",
      "model_module_version": "1.1.0",
      "model_name": "SliderStyleModel",
      "state": {
       "description_width": ""
      }
     },
     "1d08a29eb2414593a1b1c7782ea2eac1": {
      "model_module": "@jupyter-widgets/controls",
      "model_module_version": "1.1.0",
      "model_name": "SliderStyleModel",
      "state": {
       "description_width": ""
      }
     },
     "2208506bbaec4fc9a98fd98280de5d1c": {
      "model_module": "@jupyter-widgets/controls",
      "model_module_version": "1.1.0",
      "model_name": "SliderStyleModel",
      "state": {
       "description_width": ""
      }
     },
     "235142b8540744db9511af85a097b49c": {
      "model_module": "@jupyter-widgets/base",
      "model_module_version": "1.0.0",
      "model_name": "LayoutModel",
      "state": {}
     },
     "2f6095df97f640fa9ce153030da41517": {
      "model_module": "@jupyter-widgets/controls",
      "model_module_version": "1.1.0",
      "model_name": "SliderStyleModel",
      "state": {
       "description_width": ""
      }
     },
     "30e1f1664c5a4d3898cd707b12948040": {
      "model_module": "@jupyter-widgets/controls",
      "model_module_version": "1.1.0",
      "model_name": "FloatSliderModel",
      "state": {
       "description": "alpha",
       "layout": "IPY_MODEL_8e1dcbc1907a4a81bf74f654a2b7d346",
       "max": 2,
       "min": -1,
       "step": 0.001,
       "style": "IPY_MODEL_2f6095df97f640fa9ce153030da41517",
       "value": 0.5
      }
     },
     "391c604bb67c48e6a84372d246a7f599": {
      "model_module": "@jupyter-widgets/base",
      "model_module_version": "1.0.0",
      "model_name": "LayoutModel",
      "state": {}
     },
     "3d08d733ace7497b99bebc9ef326af4c": {
      "model_module": "@jupyter-widgets/base",
      "model_module_version": "1.0.0",
      "model_name": "LayoutModel",
      "state": {}
     },
     "44f2ecaab0064425944586c16f7deae1": {
      "model_module": "@jupyter-widgets/controls",
      "model_module_version": "1.1.0",
      "model_name": "FloatSliderModel",
      "state": {
       "description": "R1",
       "layout": "IPY_MODEL_391c604bb67c48e6a84372d246a7f599",
       "max": 24,
       "min": -8,
       "step": 0.1,
       "style": "IPY_MODEL_17c86189f65245b4a8457411bee1fdb1",
       "value": 8
      }
     },
     "47ecbfbd139349368f29382d2935718c": {
      "model_module": "@jupyter-widgets/controls",
      "model_module_version": "1.1.0",
      "model_name": "VBoxModel",
      "state": {
       "_dom_classes": [
        "widget-interact"
       ],
       "children": [
        "IPY_MODEL_4ab6ef23c0164660889e2ed010478c37",
        "IPY_MODEL_d5b0260991a74662a0bb14bdb7c43d5e",
        "IPY_MODEL_ba19dc69a1074a719fa198c66069a23c",
        "IPY_MODEL_e600034837f348bca00a9785d693f93d",
        "IPY_MODEL_7c86afb636964ad4a5a0033934ac9d62",
        "IPY_MODEL_6180af8da0dd4e9fa87be8202b8d2de9",
        "IPY_MODEL_a733a5003bb94dcaa1a264d621f0e68d"
       ],
       "layout": "IPY_MODEL_027d4f8618db4f0a931816a66a10cee1"
      }
     },
     "4a2bfc6362b345a49fb4e04cd0f5443d": {
      "model_module": "@jupyter-widgets/controls",
      "model_module_version": "1.1.0",
      "model_name": "DescriptionStyleModel",
      "state": {
       "description_width": ""
      }
     },
     "4ab6ef23c0164660889e2ed010478c37": {
      "model_module": "@jupyter-widgets/controls",
      "model_module_version": "1.1.0",
      "model_name": "FloatSliderModel",
      "state": {
       "description": "alpha",
       "layout": "IPY_MODEL_53c45e9241104ff1b04abc585f1320e8",
       "max": 2,
       "min": -1,
       "step": 0.001,
       "style": "IPY_MODEL_1d08a29eb2414593a1b1c7782ea2eac1",
       "value": 0.5
      }
     },
     "53c45e9241104ff1b04abc585f1320e8": {
      "model_module": "@jupyter-widgets/base",
      "model_module_version": "1.0.0",
      "model_name": "LayoutModel",
      "state": {}
     },
     "57a749f2ec9a4385aea842d859a8623e": {
      "model_module": "@jupyter-widgets/controls",
      "model_module_version": "1.1.0",
      "model_name": "SliderStyleModel",
      "state": {
       "description_width": ""
      }
     },
     "588951cfa81e42c8963c6994c55e8415": {
      "model_module": "@jupyter-widgets/controls",
      "model_module_version": "1.1.0",
      "model_name": "SliderStyleModel",
      "state": {
       "description_width": ""
      }
     },
     "6180af8da0dd4e9fa87be8202b8d2de9": {
      "model_module": "@jupyter-widgets/controls",
      "model_module_version": "1.1.0",
      "model_name": "DropdownModel",
      "state": {
       "_options_labels": [
        "-1.0",
        "1.0",
        "0.01"
       ],
       "description": "corr",
       "index": 2,
       "layout": "IPY_MODEL_e29977ee294e4c76ae58aa434da2e843",
       "style": "IPY_MODEL_4a2bfc6362b345a49fb4e04cd0f5443d"
      }
     },
     "660fa25df95144ad8dcdef9f580b18f0": {
      "model_module": "@jupyter-widgets/base",
      "model_module_version": "1.0.0",
      "model_name": "LayoutModel",
      "state": {}
     },
     "6aee13129c974eb8acd3307900000382": {
      "model_module": "@jupyter-widgets/base",
      "model_module_version": "1.0.0",
      "model_name": "LayoutModel",
      "state": {}
     },
     "7c86afb636964ad4a5a0033934ac9d62": {
      "model_module": "@jupyter-widgets/controls",
      "model_module_version": "1.1.0",
      "model_name": "FloatSliderModel",
      "state": {
       "description": "sd1",
       "layout": "IPY_MODEL_ee261ca12db14b3aa4c6939658bf936b",
       "max": 30,
       "min": -10,
       "step": 0.1,
       "style": "IPY_MODEL_c892e44876ce462d8e3070764aae5d5a",
       "value": 10
      }
     },
     "85d8463bef8340deb0f1b50b6073a71d": {
      "model_module": "@jupyter-widgets/base",
      "model_module_version": "1.0.0",
      "model_name": "LayoutModel",
      "state": {}
     },
     "879a52048bd147579b07e19859607013": {
      "model_module": "@jupyter-widgets/controls",
      "model_module_version": "1.1.0",
      "model_name": "FloatSliderModel",
      "state": {
       "description": "R0",
       "layout": "IPY_MODEL_6aee13129c974eb8acd3307900000382",
       "max": 12,
       "min": -4,
       "step": 0.1,
       "style": "IPY_MODEL_d65e52a4469c4bd3b6b7c41d6e13ee17",
       "value": 4
      }
     },
     "8976dcc8504849878df865c3db0fe23e": {
      "model_module": "@jupyter-widgets/controls",
      "model_module_version": "1.1.0",
      "model_name": "SliderStyleModel",
      "state": {
       "description_width": ""
      }
     },
     "8e1dcbc1907a4a81bf74f654a2b7d346": {
      "model_module": "@jupyter-widgets/base",
      "model_module_version": "1.0.0",
      "model_name": "LayoutModel",
      "state": {}
     },
     "938ee4b295074be58e0e8129cf0729a2": {
      "model_module": "@jupyter-widgets/controls",
      "model_module_version": "1.1.0",
      "model_name": "VBoxModel",
      "state": {
       "_dom_classes": [
        "widget-interact"
       ],
       "children": [
        "IPY_MODEL_30e1f1664c5a4d3898cd707b12948040",
        "IPY_MODEL_879a52048bd147579b07e19859607013",
        "IPY_MODEL_44f2ecaab0064425944586c16f7deae1",
        "IPY_MODEL_b51c03df199144008d3e16f555bf4bca",
        "IPY_MODEL_d06d42f35aa7465ab5cd20ede4e978d1",
        "IPY_MODEL_b91ab69118504b8bbc5e96b72909148d",
        "IPY_MODEL_089a5fc58c9743f2b52d507d97dbca13"
       ],
       "layout": "IPY_MODEL_b2d2c368290446edb2ec16bb171c7046"
      }
     },
     "9e79008a02004eb0b51d615ec843cc85": {
      "model_module": "@jupyter-widgets/controls",
      "model_module_version": "1.1.0",
      "model_name": "SliderStyleModel",
      "state": {
       "description_width": ""
      }
     },
     "a733a5003bb94dcaa1a264d621f0e68d": {
      "model_module": "@jupyter-widgets/output",
      "model_module_version": "1.0.0",
      "model_name": "OutputModel",
      "state": {
       "layout": "IPY_MODEL_cf0bbea4bcbd4721b4a51563a2b6a685",
       "outputs": [
        {
         "data": {
          "image/png": "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\n",
          "text/plain": "<matplotlib.figure.Figure at 0x1315c26d550>"
         },
         "metadata": {},
         "output_type": "display_data"
        }
       ]
      }
     },
     "b2d2c368290446edb2ec16bb171c7046": {
      "model_module": "@jupyter-widgets/base",
      "model_module_version": "1.0.0",
      "model_name": "LayoutModel",
      "state": {}
     },
     "b35ce3dcf9484aeb954341080f201227": {
      "model_module": "@jupyter-widgets/base",
      "model_module_version": "1.0.0",
      "model_name": "LayoutModel",
      "state": {}
     },
     "b51c03df199144008d3e16f555bf4bca": {
      "model_module": "@jupyter-widgets/controls",
      "model_module_version": "1.1.0",
      "model_name": "FloatSliderModel",
      "state": {
       "description": "sd0",
       "layout": "IPY_MODEL_3d08d733ace7497b99bebc9ef326af4c",
       "max": 15,
       "min": -5,
       "step": 0.1,
       "style": "IPY_MODEL_8976dcc8504849878df865c3db0fe23e",
       "value": 5
      }
     },
     "b91ab69118504b8bbc5e96b72909148d": {
      "model_module": "@jupyter-widgets/controls",
      "model_module_version": "1.1.0",
      "model_name": "FloatSliderModel",
      "state": {
       "description": "corr",
       "layout": "IPY_MODEL_235142b8540744db9511af85a097b49c",
       "max": 1,
       "min": -1,
       "step": 0.01,
       "style": "IPY_MODEL_2208506bbaec4fc9a98fd98280de5d1c",
       "value": 0.8
      }
     },
     "b932aba564d64d07b19ff1d376529682": {
      "model_module": "@jupyter-widgets/base",
      "model_module_version": "1.0.0",
      "model_name": "LayoutModel",
      "state": {}
     },
     "ba19dc69a1074a719fa198c66069a23c": {
      "model_module": "@jupyter-widgets/controls",
      "model_module_version": "1.1.0",
      "model_name": "FloatSliderModel",
      "state": {
       "description": "R1",
       "layout": "IPY_MODEL_d5c148ab11e84d9b80139ce20b0b856a",
       "max": 24,
       "min": -8,
       "step": 0.1,
       "style": "IPY_MODEL_588951cfa81e42c8963c6994c55e8415",
       "value": 8
      }
     },
     "c892e44876ce462d8e3070764aae5d5a": {
      "model_module": "@jupyter-widgets/controls",
      "model_module_version": "1.1.0",
      "model_name": "SliderStyleModel",
      "state": {
       "description_width": ""
      }
     },
     "cf0bbea4bcbd4721b4a51563a2b6a685": {
      "model_module": "@jupyter-widgets/base",
      "model_module_version": "1.0.0",
      "model_name": "LayoutModel",
      "state": {}
     },
     "d06d42f35aa7465ab5cd20ede4e978d1": {
      "model_module": "@jupyter-widgets/controls",
      "model_module_version": "1.1.0",
      "model_name": "FloatSliderModel",
      "state": {
       "description": "sd1",
       "layout": "IPY_MODEL_b35ce3dcf9484aeb954341080f201227",
       "max": 30,
       "min": -10,
       "step": 0.1,
       "style": "IPY_MODEL_9e79008a02004eb0b51d615ec843cc85",
       "value": 10
      }
     },
     "d5b0260991a74662a0bb14bdb7c43d5e": {
      "model_module": "@jupyter-widgets/controls",
      "model_module_version": "1.1.0",
      "model_name": "FloatSliderModel",
      "state": {
       "description": "R0",
       "layout": "IPY_MODEL_660fa25df95144ad8dcdef9f580b18f0",
       "max": 12,
       "min": -4,
       "step": 0.1,
       "style": "IPY_MODEL_f3fb886285f446b1bac9e8db7536994f",
       "value": 4
      }
     },
     "d5c148ab11e84d9b80139ce20b0b856a": {
      "model_module": "@jupyter-widgets/base",
      "model_module_version": "1.0.0",
      "model_name": "LayoutModel",
      "state": {}
     },
     "d65e52a4469c4bd3b6b7c41d6e13ee17": {
      "model_module": "@jupyter-widgets/controls",
      "model_module_version": "1.1.0",
      "model_name": "SliderStyleModel",
      "state": {
       "description_width": ""
      }
     },
     "e29977ee294e4c76ae58aa434da2e843": {
      "model_module": "@jupyter-widgets/base",
      "model_module_version": "1.0.0",
      "model_name": "LayoutModel",
      "state": {}
     },
     "e600034837f348bca00a9785d693f93d": {
      "model_module": "@jupyter-widgets/controls",
      "model_module_version": "1.1.0",
      "model_name": "FloatSliderModel",
      "state": {
       "description": "sd0",
       "layout": "IPY_MODEL_85d8463bef8340deb0f1b50b6073a71d",
       "max": 15,
       "min": -5,
       "step": 0.1,
       "style": "IPY_MODEL_57a749f2ec9a4385aea842d859a8623e",
       "value": 5
      }
     },
     "ee261ca12db14b3aa4c6939658bf936b": {
      "model_module": "@jupyter-widgets/base",
      "model_module_version": "1.0.0",
      "model_name": "LayoutModel",
      "state": {}
     },
     "f3fb886285f446b1bac9e8db7536994f": {
      "model_module": "@jupyter-widgets/controls",
      "model_module_version": "1.1.0",
      "model_name": "SliderStyleModel",
      "state": {
       "description_width": ""
      }
     }
    },
    "version_major": 2,
    "version_minor": 0
   }
  }
 },
 "nbformat": 4,
 "nbformat_minor": 1
}
