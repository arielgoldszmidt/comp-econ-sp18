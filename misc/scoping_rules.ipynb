{
 "cells": [
  {
   "cell_type": "code",
   "execution_count": 1,
   "metadata": {},
   "outputs": [],
   "source": [
    "# Run the cell below to add section numbering"
   ]
  },
  {
   "cell_type": "code",
   "execution_count": 2,
   "metadata": {},
   "outputs": [
    {
     "data": {
      "text/html": [
       "<style>\n",
       "body {\n",
       "  counter-reset: section subsection;\n",
       "}\n",
       "\n",
       "h1 {\n",
       "  counter-reset: subsection;\n",
       "}\n",
       "\n",
       "h1:before {\n",
       "    counter-increment: section;\n",
       "    content: \"\" counter(section) \". \";\n",
       "}\n",
       "\n",
       "h2:before {\n",
       "    counter-increment: subsection;\n",
       "    content: counter(section) \".\" counter(subsection) \" \";\n",
       "}\n",
       "</style>"
      ],
      "text/plain": [
       "<IPython.core.display.HTML object>"
      ]
     },
     "metadata": {},
     "output_type": "display_data"
    }
   ],
   "source": [
    "%%HTML\n",
    "<style>\n",
    "body {\n",
    "  counter-reset: section subsection;\n",
    "}\n",
    "\n",
    "h1 {\n",
    "  counter-reset: subsection;\n",
    "}\n",
    "\n",
    "h1:before {\n",
    "    counter-increment: section;\n",
    "    content: \"\" counter(section) \". \";\n",
    "}\n",
    "\n",
    "h2:before {\n",
    "    counter-increment: subsection;\n",
    "    content: counter(section) \".\" counter(subsection) \" \";\n",
    "}\n",
    "</style>"
   ]
  },
  {
   "cell_type": "markdown",
   "metadata": {},
   "source": [
    "# Scoping Rules in Python\n",
    "\n",
    "One step in *really* learning Python, and a first step in understanding any programming language, is to understand the language's <a href='https://en.wikipedia.org/wiki/Scope_(computer_science)'>scoping rules</a>. A discussion of scoping in Python can be found on <a href='https://en.wikipedia.org/wiki/Scope_(computer_science)#Python'>Wikipedia</a>. A nice mnemonic device for understanding scopes in Python can be found on stack exchange. Check out this answer (https://stackoverflow.com/a/292502/1411791) to this question (https://stackoverflow.com/q/291978/1411791).\n",
    "\n",
    "\n",
    "Here are a few examples to see this in action.\n",
    "\n",
    "## Variables Defined in Functions Stay in Functions"
   ]
  },
  {
   "cell_type": "code",
   "execution_count": 3,
   "metadata": {},
   "outputs": [],
   "source": [
    "# Define a variable `x` in a function\n",
    "def f():\n",
    "    x = 3\n",
    "    \n",
    "# Execute the function\n",
    "f()"
   ]
  },
  {
   "cell_type": "markdown",
   "metadata": {},
   "source": [
    "The code below results in an error since Python can't find any definition for the variable `x`. It was defined in `f` and it stays in `f`."
   ]
  },
  {
   "cell_type": "code",
   "execution_count": 4,
   "metadata": {},
   "outputs": [
    {
     "ename": "NameError",
     "evalue": "name 'x' is not defined",
     "output_type": "error",
     "traceback": [
      "\u001b[1;31m---------------------------------------------------------------------------\u001b[0m",
      "\u001b[1;31mNameError\u001b[0m                                 Traceback (most recent call last)",
      "\u001b[1;32m<ipython-input-4-6fcf9dfbd479>\u001b[0m in \u001b[0;36m<module>\u001b[1;34m()\u001b[0m\n\u001b[1;32m----> 1\u001b[1;33m \u001b[0mx\u001b[0m\u001b[1;33m\u001b[0m\u001b[0m\n\u001b[0m",
      "\u001b[1;31mNameError\u001b[0m: name 'x' is not defined"
     ]
    }
   ],
   "source": [
    "x"
   ]
  },
  {
   "cell_type": "markdown",
   "metadata": {},
   "source": [
    "## The scope existing within a function can read but not write to variables in the global scope\n",
    "\n",
    "In this example, we define a variable `y` in the global namespace. I define functions `g` and `h` that use `y`. `g` uses `y`, but only reads it. `h` uses `y` but tries to write to it. "
   ]
  },
  {
   "cell_type": "code",
   "execution_count": 5,
   "metadata": {},
   "outputs": [
    {
     "name": "stdout",
     "output_type": "stream",
     "text": [
      "I'm in the global namespace!!!!!!\n"
     ]
    }
   ],
   "source": [
    "# Code in the global namespace\n",
    "y = \"I'm in the global namespace\"\n",
    "\n",
    "def g():\n",
    "    # Code within the scope of the function `g`\n",
    "    new_message = y + '!!!!!!'\n",
    "    print(new_message)\n",
    "\n",
    "g()"
   ]
  },
  {
   "cell_type": "markdown",
   "metadata": {},
   "source": [
    "`g` was successful in reading `y`. Now, I define `h`. `h` will try to overwrite `y`. What happens instead is that a new variable called `y` is created that exists within the scope of the function `h`. When `h` finishes executing, that version of `y` disappears. We will see that the version of `y` existing in the global namespace continues to exist as it did before `h` was executed."
   ]
  },
  {
   "cell_type": "code",
   "execution_count": 6,
   "metadata": {},
   "outputs": [],
   "source": [
    "# Code in the global namespace\n",
    "y = \"I'm in the global namespace\"\n",
    "\n",
    "def h():\n",
    "    # Code within the scope of the function `h`\n",
    "    \n",
    "    # Try to overwrite `y`\n",
    "    y = 'This message was created in the scope of `h`'\n",
    "    \n",
    "    # It now appears that we were successful in writing to `y`\n",
    "    print(y)"
   ]
  },
  {
   "cell_type": "code",
   "execution_count": 7,
   "metadata": {},
   "outputs": [
    {
     "name": "stdout",
     "output_type": "stream",
     "text": [
      "This message was created in the scope of `h`\n"
     ]
    }
   ],
   "source": [
    "# The function prints the `y` within the scope of `h`\n",
    "h()"
   ]
  },
  {
   "cell_type": "code",
   "execution_count": 8,
   "metadata": {},
   "outputs": [
    {
     "data": {
      "text/plain": [
       "\"I'm in the global namespace\""
      ]
     },
     "execution_count": 8,
     "metadata": {},
     "output_type": "execute_result"
    }
   ],
   "source": [
    "# This prints the `y` from the global namespace\n",
    "y"
   ]
  },
  {
   "cell_type": "markdown",
   "metadata": {},
   "source": [
    "Note that the version of `y` that exists within `h` only exists while `h` is executing. It is deleted when the function finishes executing and is redefined every time that the function is called. There are things called iterators that have local variables that persist that you can read about if interested.\n",
    "\n",
    "Now, consider the code below that is a slight variation on what we did with `h` above. Here, I'm trying to print `y` from the global namespace before defining the local `y`. This will actually result in an error. Python knows that I will be defining `y` locally within `h` and so it won't let me do this"
   ]
  },
  {
   "cell_type": "code",
   "execution_count": 9,
   "metadata": {},
   "outputs": [],
   "source": [
    "# Code in the global namespace\n",
    "y = \"I'm in the global namespace\"\n",
    "\n",
    "def h():\n",
    "    # Code within the scope of the function `h`\n",
    "    \n",
    "    # Try to read `y` defined in the global namespace before defining local `y`\n",
    "    print(y)\n",
    "    \n",
    "    # Now we try to overwrite `y`\n",
    "    y = 'This message was created in the scope of `h`'\n",
    "    \n",
    "    # It now appears that we were successful in writing to `y`\n",
    "    print(y)\n"
   ]
  },
  {
   "cell_type": "code",
   "execution_count": 10,
   "metadata": {},
   "outputs": [
    {
     "ename": "UnboundLocalError",
     "evalue": "local variable 'y' referenced before assignment",
     "output_type": "error",
     "traceback": [
      "\u001b[1;31m---------------------------------------------------------------------------\u001b[0m",
      "\u001b[1;31mUnboundLocalError\u001b[0m                         Traceback (most recent call last)",
      "\u001b[1;32m<ipython-input-10-a605a6f05717>\u001b[0m in \u001b[0;36m<module>\u001b[1;34m()\u001b[0m\n\u001b[0;32m      1\u001b[0m \u001b[1;31m# The code won't result in an error until I actually try to run it\u001b[0m\u001b[1;33m\u001b[0m\u001b[1;33m\u001b[0m\u001b[0m\n\u001b[1;32m----> 2\u001b[1;33m \u001b[0mh\u001b[0m\u001b[1;33m(\u001b[0m\u001b[1;33m)\u001b[0m\u001b[1;33m\u001b[0m\u001b[0m\n\u001b[0m",
      "\u001b[1;32m<ipython-input-9-86b405e32e21>\u001b[0m in \u001b[0;36mh\u001b[1;34m()\u001b[0m\n\u001b[0;32m      6\u001b[0m \u001b[1;33m\u001b[0m\u001b[0m\n\u001b[0;32m      7\u001b[0m     \u001b[1;31m# Try to read `y` defined in the global namespace before defining local `y`\u001b[0m\u001b[1;33m\u001b[0m\u001b[1;33m\u001b[0m\u001b[0m\n\u001b[1;32m----> 8\u001b[1;33m     \u001b[0mprint\u001b[0m\u001b[1;33m(\u001b[0m\u001b[0my\u001b[0m\u001b[1;33m)\u001b[0m\u001b[1;33m\u001b[0m\u001b[0m\n\u001b[0m\u001b[0;32m      9\u001b[0m \u001b[1;33m\u001b[0m\u001b[0m\n\u001b[0;32m     10\u001b[0m     \u001b[1;31m# Now we try to overwrite `y`\u001b[0m\u001b[1;33m\u001b[0m\u001b[1;33m\u001b[0m\u001b[0m\n",
      "\u001b[1;31mUnboundLocalError\u001b[0m: local variable 'y' referenced before assignment"
     ]
    }
   ],
   "source": [
    "# The code won't result in an error until I actually try to run it\n",
    "h()"
   ]
  },
  {
   "cell_type": "markdown",
   "metadata": {},
   "source": [
    "### The `global` keyword\n",
    "\n",
    "Note that you can use the `global` keyword to let Python know that you want a function to use a variable from the global namespace rather than creating a local variable. I demonstrate this below. However, *don't ever do this.* Using `global` is almost always the wrong thing to do and is bad coding practice. See this stack overflow answer about [Why Global Variables Are Evil](https://stackoverflow.com/q/19158339/1411791)."
   ]
  },
  {
   "cell_type": "code",
   "execution_count": 11,
   "metadata": {},
   "outputs": [],
   "source": [
    "# Code in the global namespace\n",
    "y = \"I'm in the global namespace\"\n",
    "\n",
    "def h():\n",
    "    # Don't ever do this\n",
    "    global y\n",
    "    \n",
    "    # Try to read `y` defined in the global namespace before defining local `y`\n",
    "    print(y)\n",
    "    \n",
    "    # Now we try to overwrite `y`\n",
    "    y = 'This message was created in the scope of `h`'\n",
    "    \n",
    "    # It now appears that we were successful in writing to `y`\n",
    "    print(y)\n"
   ]
  },
  {
   "cell_type": "code",
   "execution_count": 12,
   "metadata": {},
   "outputs": [
    {
     "name": "stdout",
     "output_type": "stream",
     "text": [
      "I'm in the global namespace\n",
      "This message was created in the scope of `h`\n"
     ]
    }
   ],
   "source": [
    "h()"
   ]
  },
  {
   "cell_type": "code",
   "execution_count": 13,
   "metadata": {},
   "outputs": [
    {
     "data": {
      "text/plain": [
       "'This message was created in the scope of `h`'"
      ]
     },
     "execution_count": 13,
     "metadata": {},
     "output_type": "execute_result"
    }
   ],
   "source": [
    "# Notice that the variable `y` in the global scope was changed by stuff that happened within the function `h`\n",
    "y"
   ]
  },
  {
   "cell_type": "markdown",
   "metadata": {},
   "source": [
    "### Note: A function reads the global namespace variable every time it's run\n",
    "\n",
    "Note that if the variable is being read from the global namespace from within the function's scope, it is read every time the function is run. You might think that the function reads it once and the data is stored in the function's definition, but it is actually re-read every time. Because of this, you can actually define a function with variables that are not yet defined."
   ]
  },
  {
   "cell_type": "code",
   "execution_count": 14,
   "metadata": {},
   "outputs": [],
   "source": [
    "# Clear definition of `z` if it exists\n",
    "try:\n",
    "    del z\n",
    "except NameError:\n",
    "    pass"
   ]
  },
  {
   "cell_type": "code",
   "execution_count": 15,
   "metadata": {},
   "outputs": [],
   "source": [
    "def fun(x):\n",
    "    print(z, x)"
   ]
  },
  {
   "cell_type": "code",
   "execution_count": null,
   "metadata": {},
   "outputs": [],
   "source": [
    "# This results in an error, because z is not yet defined\n",
    "fun(2)"
   ]
  },
  {
   "cell_type": "code",
   "execution_count": 16,
   "metadata": {},
   "outputs": [
    {
     "name": "stdout",
     "output_type": "stream",
     "text": [
      "hey 2\n"
     ]
    }
   ],
   "source": [
    "# Now that z is defined, it works\n",
    "z = 'hey'\n",
    "fun(2)"
   ]
  },
  {
   "cell_type": "code",
   "execution_count": 17,
   "metadata": {},
   "outputs": [
    {
     "name": "stdout",
     "output_type": "stream",
     "text": [
      "you 2\n"
     ]
    }
   ],
   "source": [
    "# Change z. The function's behavior changes as a result\n",
    "z = 'you'\n",
    "fun(2)"
   ]
  },
  {
   "cell_type": "code",
   "execution_count": null,
   "metadata": {},
   "outputs": [],
   "source": [
    "# Clear definition of `z` if it exists\n",
    "try:\n",
    "    del zzz\n",
    "except NameError:\n",
    "    pass\n",
    "\n",
    "# The same holds for inline functions (also called anonymous functions or 'lambda' functions)\n",
    "inline_fun = lambda x: print(zzz, x)"
   ]
  },
  {
   "cell_type": "code",
   "execution_count": 18,
   "metadata": {},
   "outputs": [
    {
     "ename": "NameError",
     "evalue": "name 'inline_fun' is not defined",
     "output_type": "error",
     "traceback": [
      "\u001b[1;31m---------------------------------------------------------------------------\u001b[0m",
      "\u001b[1;31mNameError\u001b[0m                                 Traceback (most recent call last)",
      "\u001b[1;32m<ipython-input-18-39464cfd2858>\u001b[0m in \u001b[0;36m<module>\u001b[1;34m()\u001b[0m\n\u001b[1;32m----> 1\u001b[1;33m \u001b[0minline_fun\u001b[0m\u001b[1;33m(\u001b[0m\u001b[1;36m2\u001b[0m\u001b[1;33m)\u001b[0m\u001b[1;33m\u001b[0m\u001b[0m\n\u001b[0m",
      "\u001b[1;31mNameError\u001b[0m: name 'inline_fun' is not defined"
     ]
    }
   ],
   "source": [
    "inline_fun(2)"
   ]
  },
  {
   "cell_type": "code",
   "execution_count": null,
   "metadata": {},
   "outputs": [],
   "source": [
    "zzz = 'hey'\n",
    "inline_fun(2)"
   ]
  },
  {
   "cell_type": "code",
   "execution_count": 19,
   "metadata": {},
   "outputs": [
    {
     "ename": "NameError",
     "evalue": "name 'inline_fun' is not defined",
     "output_type": "error",
     "traceback": [
      "\u001b[1;31m---------------------------------------------------------------------------\u001b[0m",
      "\u001b[1;31mNameError\u001b[0m                                 Traceback (most recent call last)",
      "\u001b[1;32m<ipython-input-19-88cfc41bcd6d>\u001b[0m in \u001b[0;36m<module>\u001b[1;34m()\u001b[0m\n\u001b[0;32m      1\u001b[0m \u001b[0mzzz\u001b[0m \u001b[1;33m=\u001b[0m \u001b[1;34m'you'\u001b[0m\u001b[1;33m\u001b[0m\u001b[0m\n\u001b[1;32m----> 2\u001b[1;33m \u001b[0minline_fun\u001b[0m\u001b[1;33m(\u001b[0m\u001b[1;36m2\u001b[0m\u001b[1;33m)\u001b[0m\u001b[1;33m\u001b[0m\u001b[0m\n\u001b[0m",
      "\u001b[1;31mNameError\u001b[0m: name 'inline_fun' is not defined"
     ]
    }
   ],
   "source": [
    "zzz = 'you'\n",
    "inline_fun(2)"
   ]
  }
 ],
 "metadata": {
  "kernelspec": {
   "display_name": "Python 3",
   "language": "python",
   "name": "python3"
  },
  "language_info": {
   "codemirror_mode": {
    "name": "ipython",
    "version": 3
   },
   "file_extension": ".py",
   "mimetype": "text/x-python",
   "name": "python",
   "nbconvert_exporter": "python",
   "pygments_lexer": "ipython3",
   "version": "3.6.4"
  },
  "varInspector": {
   "cols": {
    "lenName": 16,
    "lenType": 16,
    "lenVar": 40
   },
   "kernels_config": {
    "python": {
     "delete_cmd_postfix": "",
     "delete_cmd_prefix": "del ",
     "library": "var_list.py",
     "varRefreshCmd": "print(var_dic_list())"
    },
    "r": {
     "delete_cmd_postfix": ") ",
     "delete_cmd_prefix": "rm(",
     "library": "var_list.r",
     "varRefreshCmd": "cat(var_dic_list()) "
    }
   },
   "types_to_exclude": [
    "module",
    "function",
    "builtin_function_or_method",
    "instance",
    "_Feature"
   ],
   "window_display": false
  }
 },
 "nbformat": 4,
 "nbformat_minor": 2
}
